{
 "cells": [
  {
   "cell_type": "code",
   "execution_count": 1,
   "metadata": {},
   "outputs": [
    {
     "name": "stdout",
     "output_type": "stream",
     "text": [
      "3.5.2 (default, Nov 12 2018, 13:43:14) \n",
      "[GCC 5.4.0 20160609]\n",
      "Python Version 3.5.2\n",
      "Tensorflow Version: 1.12.0\n",
      "sklearn Version 0.20.1\n",
      "Keras Version 2.2.4\n"
     ]
    },
    {
     "name": "stderr",
     "output_type": "stream",
     "text": [
      "Using TensorFlow backend.\n"
     ]
    }
   ],
   "source": [
    "#VERSION INFO\n",
    "import sys\n",
    "import sklearn\n",
    "import tensorflow \n",
    "import keras\n",
    "import platform\n",
    "\n",
    "print (sys.version)\n",
    "print(\"Python Version\",  platform.python_version())\n",
    "print (\"Tensorflow Version:\", tensorflow.__version__)\n",
    "print (\"sklearn Version\",sklearn.__version__)\n",
    "print (\"Keras Version\",keras.__version__)"
   ]
  },
  {
   "cell_type": "code",
   "execution_count": 2,
   "metadata": {},
   "outputs": [],
   "source": [
    "#Misc\n",
    "import pandas as pd\n",
    "import numpy as np\n",
    "import nltk\n",
    "from nltk.corpus import stopwords\n",
    "from nltk.stem.porter import PorterStemmer\n",
    "import re\n",
    "\n",
    "#Sci-kit learn\n",
    "from sklearn.model_selection import train_test_split\n",
    "from sklearn.metrics import confusion_matrix, accuracy_score\n",
    "from sklearn.metrics import classification_report\n",
    "\n",
    "# Keras\n",
    "from keras.preprocessing.text import Tokenizer\n",
    "from keras.preprocessing.sequence import pad_sequences\n",
    "from keras.models import Sequential\n",
    "from keras.layers import Dense, Flatten, LSTM, Conv1D, MaxPooling1D, Dropout, Activation\n",
    "from keras.layers.embeddings import Embedding"
   ]
  },
  {
   "cell_type": "code",
   "execution_count": 3,
   "metadata": {
    "scrolled": true
   },
   "outputs": [
    {
     "name": "stdout",
     "output_type": "stream",
     "text": [
      "      id                                              tweet subtask_a  \\\n",
      "0  86426  @USER She should ask a few native Americans wh...       OFF   \n",
      "1  90194  @USER @USER Go home you’re drunk!!! @USER #MAG...       OFF   \n",
      "2  16820  Amazon is investigating Chinese employees who ...       NOT   \n",
      "3  62688  @USER Someone should'veTaken\" this piece of sh...       OFF   \n",
      "4  43605  @USER @USER Obama wanted liberals &amp; illega...       NOT   \n",
      "\n",
      "  subtask_b subtask_c  \n",
      "0       UNT       NaN  \n",
      "1       TIN       IND  \n",
      "2       NaN       NaN  \n",
      "3       UNT       NaN  \n",
      "4       NaN       NaN  \n"
     ]
    }
   ],
   "source": [
    "#LOADING DATA\n",
    "training_data = \"offenseval-training-v1.tsv\"\n",
    "data = pd.read_table(training_data)\n",
    "print(data.head())"
   ]
  },
  {
   "cell_type": "code",
   "execution_count": 4,
   "metadata": {},
   "outputs": [
    {
     "name": "stdout",
     "output_type": "stream",
     "text": [
      "                                               tweet  label\n",
      "0                  @user ask nativ american take is.      0\n",
      "1  @user @user go home you’r drunk!!! @user #maga...      0\n",
      "2  amazon investig chines employe sell intern dat...      1\n",
      "3  @user someon should'vetaken\" piec shit volcano...      0\n",
      "4  @user @user obama want liber &amp; illeg move ...      1\n",
      "Offensive Tweets:  4400\n",
      "Non Offensive Tweets:  8840\n"
     ]
    }
   ],
   "source": [
    "#PREPROCESSING CELL\n",
    "\n",
    "#REMOVING OTHER SUBTASKS\n",
    "data = data[['tweet','subtask_a']]\n",
    "\n",
    "#FACTORIZING LABELS\n",
    "data['label']=data['subtask_a'].factorize()[0]\n",
    "data = data[['tweet','label']]\n",
    "\n",
    "#LOWERCASING, STEMMING AND REMOVING STOP WORDS\n",
    "def clean_text(tweet):\n",
    "    stop_words = stopwords.words(\"english\")\n",
    "    stemmer = PorterStemmer()\n",
    "    filtered_sentence=[]\n",
    "    tweet = tweet.lower().split()\n",
    "    filtered_sentence = [stemmer.stem(w) for w in tweet if w not in stop_words]\n",
    "    filtered_sentence = \" \".join(filtered_sentence)\n",
    "    return filtered_sentence\n",
    "    \n",
    "data['tweet'] = data['tweet'].map(lambda x: clean_text(x))\n",
    "print(data.head())\n",
    "\n",
    "count0 = 0\n",
    "count1 = 0\n",
    "for i in data[\"label\"]:\n",
    "    if i == 0:\n",
    "        count0+=1\n",
    "    else:\n",
    "        count1+=1\n",
    "print(\"Offensive Tweets: \",count0)\n",
    "print(\"Non Offensive Tweets: \",count1)"
   ]
  },
  {
   "cell_type": "code",
   "execution_count": 5,
   "metadata": {},
   "outputs": [
    {
     "name": "stdout",
     "output_type": "stream",
     "text": [
      "(13240, 100)\n"
     ]
    }
   ],
   "source": [
    "#TOKENIZING AND CREATING SEQUENCE 1\n",
    "vocabulary_size = 30000\n",
    "max_len = 100\n",
    "tokenizer = Tokenizer(num_words=vocabulary_size)\n",
    "tokenizer.fit_on_texts(data['tweet'])\n",
    "\n",
    "sequences = tokenizer.texts_to_sequences(data['tweet'])\n",
    "X = pad_sequences(sequences, maxlen=max_len)\n",
    "print(X.shape)\n",
    "y = np.array(data['label'])"
   ]
  },
  {
   "cell_type": "code",
   "execution_count": 7,
   "metadata": {},
   "outputs": [],
   "source": [
    "#GLOBAL VARIABLES\n",
    "EMBEDDING_DIM = 200\n",
    "class_weight = {0:1,1:1}\n",
    "epochs = 10\n",
    "split = 0.2"
   ]
  },
  {
   "cell_type": "code",
   "execution_count": 8,
   "metadata": {},
   "outputs": [
    {
     "name": "stdout",
     "output_type": "stream",
     "text": [
      "Embeddings Weight Calculated\n"
     ]
    }
   ],
   "source": [
    "#GLOVE WORD EMBEDDINGS\n",
    "embeddings_index = dict()\n",
    "f = open('glove.twitter.27B/glove.twitter.27B.200d.txt')\n",
    "for line in f:\n",
    "    values = line.split()\n",
    "    word = values[0]\n",
    "    coefs = np.asarray(values[1:], dtype='float32')\n",
    "    embeddings_index[word] = coefs\n",
    "f.close()\n",
    "\n",
    "embedding_matrix = np.zeros((vocabulary_size, 200))\n",
    "for word, index in tokenizer.word_index.items():\n",
    "    if index > vocabulary_size - 1:\n",
    "        break\n",
    "    else:\n",
    "        embedding_vector = embeddings_index.get(word)\n",
    "        if embedding_vector is not None:\n",
    "            embedding_matrix[index] = embedding_vector\n",
    "print(\"Embeddings Weight Calculated\")"
   ]
  },
  {
   "cell_type": "code",
   "execution_count": 9,
   "metadata": {},
   "outputs": [],
   "source": [
    "#CROSS VALIDATION \n",
    "\n",
    "X_train, X_test, y_train, y_test = train_test_split(X, y, random_state = 0, stratify = y)"
   ]
  },
  {
   "cell_type": "code",
   "execution_count": 26,
   "metadata": {},
   "outputs": [
    {
     "name": "stdout",
     "output_type": "stream",
     "text": [
      "Fitting The model\n",
      "Train on 7944 samples, validate on 1986 samples\n",
      "Epoch 1/10\n",
      "7944/7944 [==============================] - 17s 2ms/step - loss: 0.5801 - acc: 0.6956 - val_loss: 0.5314 - val_acc: 0.7356\n",
      "Epoch 2/10\n",
      "7944/7944 [==============================] - 15s 2ms/step - loss: 0.5193 - acc: 0.7475 - val_loss: 0.4874 - val_acc: 0.7749\n",
      "Epoch 3/10\n",
      "7944/7944 [==============================] - 15s 2ms/step - loss: 0.4912 - acc: 0.7677 - val_loss: 0.4803 - val_acc: 0.7749\n",
      "Epoch 4/10\n",
      "7944/7944 [==============================] - 15s 2ms/step - loss: 0.4774 - acc: 0.7784 - val_loss: 0.4750 - val_acc: 0.7825\n",
      "Epoch 5/10\n",
      "7944/7944 [==============================] - 15s 2ms/step - loss: 0.4641 - acc: 0.7852 - val_loss: 0.4812 - val_acc: 0.7734\n",
      "Epoch 6/10\n",
      "7944/7944 [==============================] - 15s 2ms/step - loss: 0.4452 - acc: 0.7983 - val_loss: 0.4918 - val_acc: 0.7724\n",
      "Epoch 7/10\n",
      "7944/7944 [==============================] - 15s 2ms/step - loss: 0.4327 - acc: 0.8027 - val_loss: 0.5084 - val_acc: 0.7628\n",
      "Epoch 8/10\n",
      "7944/7944 [==============================] - 16s 2ms/step - loss: 0.4143 - acc: 0.8099 - val_loss: 0.5054 - val_acc: 0.7714\n",
      "Epoch 9/10\n",
      "7944/7944 [==============================] - 16s 2ms/step - loss: 0.3997 - acc: 0.8204 - val_loss: 0.4987 - val_acc: 0.7774\n",
      "Epoch 10/10\n",
      "7944/7944 [==============================] - 16s 2ms/step - loss: 0.3747 - acc: 0.8367 - val_loss: 0.5174 - val_acc: 0.7608\n"
     ]
    }
   ],
   "source": [
    "#MODEL ARCHITECTURE 2\n",
    "print(\"Fitting The model\")\n",
    "model_glove = Sequential()\n",
    "model_glove.add(Embedding(vocabulary_size, 200, input_length=max_len, weights=[embedding_matrix], trainable=False))\n",
    "model_glove.add(Dropout(0.5))\n",
    "model_glove.add(Conv1D(64, 5, activation='relu'))\n",
    "model_glove.add(MaxPooling1D(pool_size=4))\n",
    "model_glove.add(LSTM(200))\n",
    "model_glove.add(Dense(1, activation='sigmoid'))\n",
    "model_glove.compile(loss='binary_crossentropy', optimizer='adam', metrics=['accuracy'])\n",
    "\n",
    "## Fit train data\n",
    "hist = model_glove.fit(X_train,\n",
    "                       y_train,\n",
    "                       validation_split = split,\n",
    "                       epochs = epochs,\n",
    "                       class_weight = class_weight)"
   ]
  },
  {
   "cell_type": "code",
   "execution_count": 27,
   "metadata": {},
   "outputs": [
    {
     "name": "stdout",
     "output_type": "stream",
     "text": [
      "3310/3310 [==============================] - 2s 582us/step\n",
      "Confusion Matrix:\n",
      "[[ 696  404]\n",
      " [ 496 1714]]\n",
      "Test Loss: 0.5398019680443847\n",
      "Test Accuracy: 0.7280966767551675\n",
      "\n",
      "Classification Report: \n",
      "              precision    recall  f1-score   support\n",
      "\n",
      "     Class 0     0.5839    0.6327    0.6073      1100\n",
      "     Class 1     0.8093    0.7756    0.7921      2210\n",
      "\n",
      "   micro avg     0.7281    0.7281    0.7281      3310\n",
      "   macro avg     0.6966    0.7041    0.6997      3310\n",
      "weighted avg     0.7344    0.7281    0.7307      3310\n",
      "\n",
      "Sklearn Accuracy:  0.7280966767371602\n"
     ]
    }
   ],
   "source": [
    "#EVALUATE THE MODEL\n",
    "from sklearn.metrics import classification_report \n",
    "score = model_glove.evaluate(X_test,y_test,batch_size=32,verbose=1)\n",
    "y_pred = model_glove.predict_classes(X_test, batch_size=32, verbose=0)\n",
    "conf_mat = confusion_matrix(y_test, y_pred)\n",
    "\n",
    "#DISPLAYING SCORES\n",
    "print(\"Confusion Matrix:\")\n",
    "print(conf_mat)\n",
    "print(\"Test Loss:\", score[0])\n",
    "print(\"Test Accuracy:\", score[1])\n",
    "\n",
    "print(\"\\nClassification Report: \")\n",
    "target_names = [\"Class {}\".format(i) for i in range(2)]\n",
    "print(classification_report(y_test, y_pred, \n",
    "                            target_names=target_names, \n",
    "                            digits = 4))\n",
    "accuracy_sklearn = accuracy_score(y_test, y_pred, \n",
    "                                  normalize=True,\n",
    "                                  sample_weight=None)\n",
    "print(\"Sklearn Accuracy: \",accuracy_sklearn)"
   ]
  },
  {
   "cell_type": "code",
   "execution_count": 28,
   "metadata": {},
   "outputs": [
    {
     "data": {
      "image/png": "[encoded data removed]",
      "text/plain": [
       "<Figure size 432x288 with 1 Axes>"
      ]
     },
     "metadata": {
      "needs_background": "light"
     },
     "output_type": "display_data"
    }
   ],
   "source": [
    "#PLOTS\n",
    "import matplotlib.pyplot as plt\n",
    "\n",
    "# plot some data\n",
    "plt.plot(hist.history['loss'], label='loss')\n",
    "plt.plot(hist.history['val_loss'], label='val_loss')\n",
    "plt.legend()\n",
    "plt.show()"
   ]
  },
  {
   "cell_type": "code",
   "execution_count": 29,
   "metadata": {},
   "outputs": [
    {
     "data": {
      "image/png": "[encoded data removed]",
      "text/plain": [
       "<Figure size 432x288 with 1 Axes>"
      ]
     },
     "metadata": {
      "needs_background": "light"
     },
     "output_type": "display_data"
    }
   ],
   "source": [
    "#ACCURACIES\n",
    "plt.plot(hist.history['acc'], label='acc')\n",
    "plt.plot(hist.history['val_acc'], label='val_acc')\n",
    "plt.legend()\n",
    "plt.show()\n"
   ]
  },
  {
   "cell_type": "code",
   "execution_count": null,
   "metadata": {},
   "outputs": [],
   "source": []
  }
 ],
 "metadata": {
  "kernelspec": {
   "display_name": "Python 3",
   "language": "python",
   "name": "python3"
  },
  "language_info": {
   "codemirror_mode": {
    "name": "ipython",
    "version": 3
   },
   "file_extension": ".py",
   "mimetype": "text/x-python",
   "name": "python",
   "nbconvert_exporter": "python",
   "pygments_lexer": "ipython3",
   "version": "3.5.2"
  }
 },
 "nbformat": 4,
 "nbformat_minor": 2
}
